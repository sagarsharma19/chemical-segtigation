{
 "cells": [
  {
   "cell_type": "code",
   "execution_count": 1,
   "metadata": {},
   "outputs": [],
   "source": [
    "import pandas as pd\n",
    "import numpy as np\n"
   ]
  },
  {
   "cell_type": "code",
   "execution_count": 2,
   "metadata": {},
   "outputs": [],
   "source": [
    "dfx=pd.read_csv('./Logistic_X_Train.csv')\n",
    "dfy=pd.read_csv('./Logistic_Y_Train.csv')"
   ]
  },
  {
   "cell_type": "code",
   "execution_count": 3,
   "metadata": {},
   "outputs": [],
   "source": [
    "X=dfx.values\n",
    "Y=dfy.values"
   ]
  },
  {
   "cell_type": "code",
   "execution_count": 4,
   "metadata": {},
   "outputs": [
    {
     "name": "stdout",
     "output_type": "stream",
     "text": [
      "(3000, 3)\n",
      "[[-1.23937466  0.74910149 -0.52851491]\n",
      " [-1.03607028  0.80143631 -1.28371152]\n",
      " [-0.61557914  1.57952053 -1.39192706]\n",
      " ...\n",
      " [ 0.08827657  1.63878904 -2.19364056]\n",
      " [ 1.52515501  0.85923429  1.50530791]\n",
      " [-0.97981744  0.56395376 -1.53939416]]\n",
      "[[1.]\n",
      " [1.]\n",
      " [1.]\n",
      " ...\n",
      " [1.]\n",
      " [1.]\n",
      " [1.]]\n"
     ]
    },
    {
     "data": {
      "text/plain": [
       "array([[ 1.        , -1.23937466,  0.74910149, -0.52851491],\n",
       "       [ 1.        , -1.03607028,  0.80143631, -1.28371152],\n",
       "       [ 1.        , -0.61557914,  1.57952053, -1.39192706],\n",
       "       ...,\n",
       "       [ 1.        ,  0.08827657,  1.63878904, -2.19364056],\n",
       "       [ 1.        ,  1.52515501,  0.85923429,  1.50530791],\n",
       "       [ 1.        , -0.97981744,  0.56395376, -1.53939416]])"
      ]
     },
     "execution_count": 4,
     "metadata": {},
     "output_type": "execute_result"
    }
   ],
   "source": [
    "print(X.shape)\n",
    "print(X)\n",
    "k=np.ones((X.shape[0],1))\n",
    "print(k)\n",
    "np.hstack((k,X))"
   ]
  },
  {
   "cell_type": "code",
   "execution_count": 5,
   "metadata": {},
   "outputs": [
    {
     "data": {
      "text/plain": [
       "(3000, 1)"
      ]
     },
     "execution_count": 5,
     "metadata": {},
     "output_type": "execute_result"
    }
   ],
   "source": [
    "Y.shape"
   ]
  },
  {
   "cell_type": "code",
   "execution_count": 6,
   "metadata": {},
   "outputs": [
    {
     "name": "stdout",
     "output_type": "stream",
     "text": [
      "[[1]\n",
      " [1]\n",
      " [1]\n",
      " ...\n",
      " [1]\n",
      " [0]\n",
      " [1]]\n"
     ]
    }
   ],
   "source": [
    "print(Y)"
   ]
  },
  {
   "cell_type": "code",
   "execution_count": 13,
   "metadata": {},
   "outputs": [],
   "source": [
    "def hypothesis(x,theta):\n",
    "    k=np.dot(x,theta)\n",
    "    return sigmoid(k)\n",
    "def sigmoid(z):\n",
    "    return 1.0/(1.0+np.exp(-z))\n",
    "    "
   ]
  },
  {
   "cell_type": "code",
   "execution_count": 14,
   "metadata": {},
   "outputs": [],
   "source": [
    "def error(Y,X,theta):\n",
    "    m = X.shape[0]\n",
    "    total_error = 0.0\n",
    "    \n",
    "    for i in range(m):\n",
    "        y_hat = hypothesis(X[i],theta)\n",
    "        total_error += (Y[i]*np.log2(y_hat)+(1-Y[i])*np.log2(1-y_hat)) \n",
    "        \n",
    "    return total_error/m\n"
   ]
  },
  {
   "cell_type": "code",
   "execution_count": 15,
   "metadata": {},
   "outputs": [],
   "source": [
    "def get_grad(Y,X,theta):\n",
    "    \n",
    "    grad = np.zeros(theta.shape)\n",
    "    m = X.shape[0]\n",
    "    for i in range(m):\n",
    "        y_hat = hypothesis(X[i],theta)\n",
    "        x = X[i].reshape((-1,1))\n",
    "        grad += (Y[i] - y_hat)*x\n",
    "        \n",
    "        \n",
    "    return grad/m"
   ]
  },
  {
   "cell_type": "code",
   "execution_count": 16,
   "metadata": {},
   "outputs": [],
   "source": [
    "def grad_descent(X,Y,learning_rate=0.5):\n",
    "    theta = np.zeros((X.shape[1],1))\n",
    "    \n",
    "    error_list = []\n",
    "    m=X.shape[0]\n",
    "    for i in range(500):\n",
    "        theta = theta + learning_rate*get_grad(Y,X,theta)\n",
    "        e = error(Y,X,theta)\n",
    "        error_list.append(e)\n",
    "        \n",
    "    return theta,error_list"
   ]
  },
  {
   "cell_type": "code",
   "execution_count": 17,
   "metadata": {},
   "outputs": [],
   "source": [
    "theta,error_list=grad_descent(X,Y)"
   ]
  },
  {
   "cell_type": "code",
   "execution_count": 18,
   "metadata": {},
   "outputs": [
    {
     "name": "stdout",
     "output_type": "stream",
     "text": [
      "[[-1.78203643]\n",
      " [ 1.19204401]\n",
      " [-3.58655303]]\n"
     ]
    }
   ],
   "source": [
    "print(theta)"
   ]
  },
  {
   "cell_type": "code",
   "execution_count": 19,
   "metadata": {},
   "outputs": [
    {
     "name": "stdout",
     "output_type": "stream",
     "text": [
      "[array([-0.69622705]), array([-0.54813651]), array([-0.461998]), array([-0.40577399]), array([-0.36623752]), array([-0.33694666]), array([-0.31438961]), array([-0.29649042]), array([-0.28194439]), array([-0.26989099]), array([-0.25974011]), array([-0.25107375]), array([-0.24358767]), array([-0.23705525]), array([-0.23130427]), array([-0.22620152]), array([-0.22164238]), array([-0.21754355]), array([-0.21383789]), array([-0.21047071]), array([-0.20739697]), array([-0.2045793]), array([-0.2019864]), array([-0.19959186]), array([-0.19737326]), array([-0.19531144]), array([-0.19338991]), array([-0.19159443]), array([-0.18991262]), array([-0.18833367]), array([-0.18684811]), array([-0.18544759]), array([-0.18412474]), array([-0.182873]), array([-0.18168657]), array([-0.18056022]), array([-0.17948931]), array([-0.17846964]), array([-0.17749744]), array([-0.17656929]), array([-0.17568212]), array([-0.17483311]), array([-0.17401973]), array([-0.17323963]), array([-0.1724907]), array([-0.17177099]), array([-0.17107872]), array([-0.17041225]), array([-0.16977006]), array([-0.16915077]), array([-0.16855308]), array([-0.16797582]), array([-0.16741787]), array([-0.16687822]), array([-0.16635592]), array([-0.16585007]), array([-0.16535987]), array([-0.16488453]), array([-0.16442336]), array([-0.16397566]), array([-0.16354083]), array([-0.16311826]), array([-0.16270742]), array([-0.16230777]), array([-0.16191884]), array([-0.16154017]), array([-0.16117132]), array([-0.1608119]), array([-0.16046151]), array([-0.16011979]), array([-0.15978641]), array([-0.15946104]), array([-0.15914337]), array([-0.15883312]), array([-0.15853]), array([-0.15823376]), array([-0.15794416]), array([-0.15766095]), array([-0.1573839]), array([-0.15711282]), array([-0.1568475]), array([-0.15658773]), array([-0.15633335]), array([-0.15608417]), array([-0.15584002]), array([-0.15560075]), array([-0.1553662]), array([-0.15513623]), array([-0.1549107]), array([-0.15468947]), array([-0.15447242]), array([-0.15425942]), array([-0.15405035]), array([-0.15384511]), array([-0.15364358]), array([-0.15344566]), array([-0.15325124]), array([-0.15306025]), array([-0.15287257]), array([-0.15268813]), array([-0.15250683]), array([-0.15232861]), array([-0.15215336]), array([-0.15198103]), array([-0.15181153]), array([-0.1516448]), array([-0.15148077]), array([-0.15131937]), array([-0.15116053]), array([-0.15100421]), array([-0.15085032]), array([-0.15069883]), array([-0.15054968]), array([-0.1504028]), array([-0.15025815]), array([-0.15011568]), array([-0.14997534]), array([-0.14983709]), array([-0.14970087]), array([-0.14956664]), array([-0.14943436]), array([-0.14930399]), array([-0.14917549]), array([-0.14904882]), array([-0.14892394]), array([-0.14880082]), array([-0.14867941]), array([-0.14855969]), array([-0.14844162]), array([-0.14832516]), array([-0.14821029]), array([-0.14809698]), array([-0.14798519]), array([-0.1478749]), array([-0.14776607]), array([-0.14765869]), array([-0.14755271]), array([-0.14744812]), array([-0.14734489]), array([-0.147243]), array([-0.14714242]), array([-0.14704312]), array([-0.14694509]), array([-0.14684831]), array([-0.14675274]), array([-0.14665837]), array([-0.14656518]), array([-0.14647314]), array([-0.14638224]), array([-0.14629246]), array([-0.14620378]), array([-0.14611618]), array([-0.14602965]), array([-0.14594415]), array([-0.14585969]), array([-0.14577624]), array([-0.14569378]), array([-0.14561229]), array([-0.14553177]), array([-0.1454522]), array([-0.14537356]), array([-0.14529584]), array([-0.14521901]), array([-0.14514308]), array([-0.14506802]), array([-0.14499383]), array([-0.14492048]), array([-0.14484797]), array([-0.14477627]), array([-0.14470539]), array([-0.14463531]), array([-0.14456601]), array([-0.14449749]), array([-0.14442973]), array([-0.14436272]), array([-0.14429645]), array([-0.14423091]), array([-0.14416609]), array([-0.14410197]), array([-0.14403856]), array([-0.14397583]), array([-0.14391379]), array([-0.14385241]), array([-0.14379169]), array([-0.14373163]), array([-0.1436722]), array([-0.14361341]), array([-0.14355524]), array([-0.14349768]), array([-0.14344073]), array([-0.14338438]), array([-0.14332862]), array([-0.14327344]), array([-0.14321884]), array([-0.1431648]), array([-0.14311133]), array([-0.1430584]), array([-0.14300602]), array([-0.14295418]), array([-0.14290286]), array([-0.14285207]), array([-0.14280179]), array([-0.14275203]), array([-0.14270277]), array([-0.142654]), array([-0.14260573]), array([-0.14255793]), array([-0.14251062]), array([-0.14246378]), array([-0.1424174]), array([-0.14237149]), array([-0.14232602]), array([-0.14228101]), array([-0.14223644]), array([-0.1421923]), array([-0.1421486]), array([-0.14210532]), array([-0.14206247]), array([-0.14202003]), array([-0.141978]), array([-0.14193638]), array([-0.14189516]), array([-0.14185433]), array([-0.1418139]), array([-0.14177386]), array([-0.14173419]), array([-0.1416949]), array([-0.14165599]), array([-0.14161745]), array([-0.14157926]), array([-0.14154144]), array([-0.14150398]), array([-0.14146687]), array([-0.1414301]), array([-0.14139368]), array([-0.14135759]), array([-0.14132184]), array([-0.14128643]), array([-0.14125134]), array([-0.14121657]), array([-0.14118213]), array([-0.141148]), array([-0.14111419]), array([-0.14108068]), array([-0.14104748]), array([-0.14101459]), array([-0.14098199]), array([-0.14094969]), array([-0.14091768]), array([-0.14088596]), array([-0.14085452]), array([-0.14082337]), array([-0.1407925]), array([-0.14076191]), array([-0.14073158]), array([-0.14070153]), array([-0.14067175]), array([-0.14064223]), array([-0.14061297]), array([-0.14058397]), array([-0.14055523]), array([-0.14052674]), array([-0.1404985]), array([-0.14047051]), array([-0.14044277]), array([-0.14041527]), array([-0.140388]), array([-0.14036098]), array([-0.14033419]), array([-0.14030763]), array([-0.1402813]), array([-0.1402552]), array([-0.14022932]), array([-0.14020367]), array([-0.14017824]), array([-0.14015302]), array([-0.14012803]), array([-0.14010324]), array([-0.14007867]), array([-0.1400543]), array([-0.14003015]), array([-0.14000619]), array([-0.13998244]), array([-0.13995889]), array([-0.13993554]), array([-0.13991239]), array([-0.13988943]), array([-0.13986667]), array([-0.13984409]), array([-0.1398217]), array([-0.1397995]), array([-0.13977749]), array([-0.13975565]), array([-0.139734]), array([-0.13971253]), array([-0.13969124]), array([-0.13967012]), array([-0.13964917]), array([-0.1396284]), array([-0.1396078]), array([-0.13958737]), array([-0.13956711]), array([-0.13954701]), array([-0.13952707]), array([-0.1395073]), array([-0.13948769]), array([-0.13946823]), array([-0.13944894]), array([-0.1394298]), array([-0.13941082]), array([-0.13939198]), array([-0.1393733]), array([-0.13935478]), array([-0.13933639]), array([-0.13931816]), array([-0.13930007]), array([-0.13928213]), array([-0.13926433]), array([-0.13924667]), array([-0.13922916]), array([-0.13921178]), array([-0.13919454]), array([-0.13917743]), array([-0.13916046]), array([-0.13914363]), array([-0.13912693]), array([-0.13911035]), array([-0.13909391]), array([-0.1390776]), array([-0.13906142]), array([-0.13904536]), array([-0.13902942]), array([-0.13901362]), array([-0.13899793]), array([-0.13898237]), array([-0.13896692]), array([-0.1389516]), array([-0.1389364]), array([-0.13892131]), array([-0.13890634]), array([-0.13889148]), array([-0.13887674]), array([-0.13886211]), array([-0.1388476]), array([-0.13883319]), array([-0.1388189]), array([-0.13880471]), array([-0.13879063]), array([-0.13877666]), array([-0.1387628]), array([-0.13874904]), array([-0.13873539]), array([-0.13872184]), array([-0.13870839]), array([-0.13869504]), array([-0.13868179]), array([-0.13866865]), array([-0.1386556]), array([-0.13864265]), array([-0.1386298]), array([-0.13861704]), array([-0.13860438]), array([-0.13859181]), array([-0.13857934]), array([-0.13856696]), array([-0.13855467]), array([-0.13854248]), array([-0.13853037]), array([-0.13851835]), array([-0.13850643]), array([-0.13849459]), array([-0.13848284]), array([-0.13847117]), array([-0.13845959]), array([-0.1384481]), array([-0.13843669]), array([-0.13842536]), array([-0.13841412]), array([-0.13840296]), array([-0.13839188]), array([-0.13838088]), array([-0.13836996]), array([-0.13835912]), array([-0.13834836]), array([-0.13833768]), array([-0.13832707]), array([-0.13831655]), array([-0.13830609]), array([-0.13829572]), array([-0.13828542]), array([-0.13827519]), array([-0.13826503]), array([-0.13825495]), array([-0.13824495]), array([-0.13823501]), array([-0.13822514]), array([-0.13821535]), array([-0.13820562]), array([-0.13819597]), array([-0.13818638]), array([-0.13817686]), array([-0.13816741]), array([-0.13815803]), array([-0.13814871]), array([-0.13813946]), array([-0.13813028]), array([-0.13812115]), array([-0.1381121]), array([-0.13810311]), array([-0.13809418]), array([-0.13808531]), array([-0.13807651]), array([-0.13806777]), array([-0.13805908]), array([-0.13805047]), array([-0.13804191]), array([-0.13803341]), array([-0.13802497]), array([-0.13801658]), array([-0.13800826]), array([-0.138]), array([-0.13799179]), array([-0.13798364]), array([-0.13797554]), array([-0.13796751]), array([-0.13795952]), array([-0.1379516]), array([-0.13794372]), array([-0.13793591]), array([-0.13792814]), array([-0.13792043]), array([-0.13791277]), array([-0.13790517]), array([-0.13789761]), array([-0.13789011]), array([-0.13788266]), array([-0.13787526]), array([-0.13786792]), array([-0.13786062]), array([-0.13785337]), array([-0.13784617]), array([-0.13783902]), array([-0.13783192]), array([-0.13782487]), array([-0.13781786]), array([-0.1378109]), array([-0.13780399]), array([-0.13779713]), array([-0.13779031]), array([-0.13778354]), array([-0.13777681]), array([-0.13777013]), array([-0.1377635]), array([-0.13775691]), array([-0.13775036]), array([-0.13774386]), array([-0.1377374]), array([-0.13773098]), array([-0.13772461]), array([-0.13771828]), array([-0.13771199]), array([-0.13770575]), array([-0.13769954]), array([-0.13769338]), array([-0.13768726]), array([-0.13768117]), array([-0.13767513]), array([-0.13766913]), array([-0.13766317]), array([-0.13765725]), array([-0.13765137]), array([-0.13764552]), array([-0.13763972]), array([-0.13763395]), array([-0.13762822]), array([-0.13762253]), array([-0.13761688]), array([-0.13761126]), array([-0.13760568]), array([-0.13760014]), array([-0.13759463]), array([-0.13758916]), array([-0.13758373]), array([-0.13757833]), array([-0.13757297]), array([-0.13756764]), array([-0.13756234]), array([-0.13755708]), array([-0.13755186]), array([-0.13754667]), array([-0.13754151]), array([-0.13753638]), array([-0.13753129]), array([-0.13752624]), array([-0.13752121]), array([-0.13751622]), array([-0.13751126]), array([-0.13750633]), array([-0.13750143]), array([-0.13749657])]\n"
     ]
    }
   ],
   "source": [
    "print(error_list)"
   ]
  },
  {
   "cell_type": "code",
   "execution_count": 2,
   "metadata": {},
   "outputs": [
    {
     "ename": "ModuleNotFoundError",
     "evalue": "No module named 'sklearn.linear_Model'",
     "output_type": "error",
     "traceback": [
      "\u001b[1;31m---------------------------------------------------------------------------\u001b[0m",
      "\u001b[1;31mModuleNotFoundError\u001b[0m                       Traceback (most recent call last)",
      "\u001b[1;32m<ipython-input-2-e9689d531836>\u001b[0m in \u001b[0;36m<module>\u001b[1;34m\u001b[0m\n\u001b[1;32m----> 1\u001b[1;33m \u001b[1;32mfrom\u001b[0m \u001b[0msklearn\u001b[0m\u001b[1;33m.\u001b[0m\u001b[0mlinear_Model\u001b[0m \u001b[1;32mimport\u001b[0m \u001b[0mLogisticRegression\u001b[0m\u001b[1;33m\u001b[0m\u001b[0m\n\u001b[0m",
      "\u001b[1;31mModuleNotFoundError\u001b[0m: No module named 'sklearn.linear_Model'"
     ]
    }
   ],
   "source": []
  },
  {
   "cell_type": "code",
   "execution_count": 1,
   "metadata": {},
   "outputs": [
    {
     "ename": "NameError",
     "evalue": "name 'LogisticRegression' is not defined",
     "output_type": "error",
     "traceback": [
      "\u001b[1;31m---------------------------------------------------------------------------\u001b[0m",
      "\u001b[1;31mNameError\u001b[0m                                 Traceback (most recent call last)",
      "\u001b[1;32m<ipython-input-1-03e646248897>\u001b[0m in \u001b[0;36m<module>\u001b[1;34m\u001b[0m\n\u001b[1;32m----> 1\u001b[1;33m \u001b[0mlr\u001b[0m \u001b[1;33m=\u001b[0m \u001b[0mLogisticRegression\u001b[0m\u001b[1;33m(\u001b[0m\u001b[1;33m)\u001b[0m\u001b[1;33m\u001b[0m\u001b[0m\n\u001b[0m",
      "\u001b[1;31mNameError\u001b[0m: name 'LogisticRegression' is not defined"
     ]
    }
   ],
   "source": []
  },
  {
   "cell_type": "code",
   "execution_count": null,
   "metadata": {},
   "outputs": [],
   "source": []
  },
  {
   "cell_type": "code",
   "execution_count": null,
   "metadata": {},
   "outputs": [],
   "source": []
  },
  {
   "cell_type": "code",
   "execution_count": null,
   "metadata": {},
   "outputs": [],
   "source": []
  },
  {
   "cell_type": "code",
   "execution_count": null,
   "metadata": {},
   "outputs": [],
   "source": []
  }
 ],
 "metadata": {
  "kernelspec": {
   "display_name": "Python 3",
   "language": "python",
   "name": "python3"
  },
  "language_info": {
   "codemirror_mode": {
    "name": "ipython",
    "version": 3
   },
   "file_extension": ".py",
   "mimetype": "text/x-python",
   "name": "python",
   "nbconvert_exporter": "python",
   "pygments_lexer": "ipython3",
   "version": "3.7.0"
  }
 },
 "nbformat": 4,
 "nbformat_minor": 2
}
